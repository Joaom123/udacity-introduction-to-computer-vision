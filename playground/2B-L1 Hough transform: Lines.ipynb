{
 "cells": [
  {
   "cell_type": "markdown",
   "metadata": {
    "collapsed": true,
    "pycharm": {
     "name": "#%% md\n"
    }
   },
   "source": [
    "   # 2B-L1 Hough Transform: Lines"
   ]
  },
  {
   "cell_type": "code",
   "execution_count": 1,
   "outputs": [],
   "source": [
    "import math\n",
    "import cv2 as cv\n",
    "import numpy as np\n",
    "from matplotlib import pyplot as plt"
   ],
   "metadata": {
    "collapsed": false,
    "pycharm": {
     "name": "#%%\n"
    }
   }
  },
  {
   "cell_type": "markdown",
   "source": [],
   "metadata": {
    "collapsed": false,
    "pycharm": {
     "name": "#%% md\n"
    }
   }
  },
  {
   "cell_type": "code",
   "execution_count": 2,
   "outputs": [],
   "source": [
    "# Loads an image\n",
    "image_grayscale = cv.imread(\"images/octagon.png\", cv.IMREAD_GRAYSCALE)\n",
    "\n",
    "# Edge detection using Canny\n",
    "image_edges = cv.Canny(\n",
    "   image=image_grayscale,\n",
    "   threshold1=50,\n",
    "   threshold2=200,\n",
    "   edges=None,\n",
    "   apertureSize=3\n",
    ")\n",
    "\n",
    "cv.imshow(\"Original\", image_grayscale)\n",
    "cv.imshow(\"Original Canny\", image_edges)\n",
    "# # Copy edges to the images that will display the results in BGR\n",
    "# cdst = cv.cvtColor(dst, cv.COLOR_GRAY2BGR)\n",
    "# cdstP = np.copy(cdst)\n",
    "#\n",
    "# lines = cv.HoughLines(\n",
    "#    image=dst,\n",
    "#    rho=1,\n",
    "#    theta=np.pi / 180,\n",
    "#    threshold=150,\n",
    "#    lines=None,\n",
    "#    srn=0,\n",
    "#    stn=0\n",
    "# )\n",
    "#\n",
    "# if lines is not None:\n",
    "#   for i in range(0, len(lines)):\n",
    "#       rho = lines[i][0][0]\n",
    "#       theta = lines[i][0][1]\n",
    "#       a = math.cos(theta)\n",
    "#       b = math.sin(theta)\n",
    "#       x0 = a * rho\n",
    "#       y0 = b * rho\n",
    "#       pt1 = (int(x0 + 1000*(-b)), int(y0 + 1000*(a)))\n",
    "#       pt2 = (int(x0 - 1000*(-b)), int(y0 - 1000*(a)))\n",
    "#       cv.line(cdst, pt1, pt2, (0,0,255), 3, cv.LINE_AA)\n",
    "#\n",
    "#\n",
    "# linesP = cv.HoughLinesP(dst, 1, np.pi / 180, 50, None, 50, 10)\n",
    "#\n",
    "# if linesP is not None:\n",
    "#   for i in range(0, len(linesP)):\n",
    "#       l = linesP[i][0]\n",
    "#       cv.line(cdstP, (l[0], l[1]), (l[2], l[3]), (0,0,255), 3, cv.LINE_AA)\n",
    "#\n",
    "# cv.imshow(\"Source\", src)\n",
    "# cv.imshow(\"Detected Lines (in red) - Standard Hough Line Transform\", cdst)\n",
    "# cv.imshow(\"Detected Lines (in red) - Probabilistic Line Transform\", cdstP)\n",
    "#\n",
    "cv.waitKey(0)\n",
    "cv.destroyAllWindows()"
   ],
   "metadata": {
    "collapsed": false,
    "pycharm": {
     "name": "#%%\n"
    }
   }
  },
  {
   "cell_type": "markdown",
   "source": [
    "## Hough Line Transform Algorithm"
   ],
   "metadata": {
    "collapsed": false,
    "pycharm": {
     "name": "#%% md\n"
    }
   }
  },
  {
   "cell_type": "code",
   "execution_count": 12,
   "outputs": [
    {
     "ename": "IndexError",
     "evalue": "index 257 is out of bounds for axis 0 with size 257",
     "output_type": "error",
     "traceback": [
      "\u001B[0;31m---------------------------------------------------------------------------\u001B[0m",
      "\u001B[0;31mIndexError\u001B[0m                                Traceback (most recent call last)",
      "\u001B[0;32m<ipython-input-12-baf40c1f7cc6>\u001B[0m in \u001B[0;36m<module>\u001B[0;34m\u001B[0m\n\u001B[1;32m     34\u001B[0m             \u001B[0mir\u001B[0m \u001B[0;34m=\u001B[0m \u001B[0mint\u001B[0m\u001B[0;34m(\u001B[0m\u001B[0mx\u001B[0m \u001B[0;34m*\u001B[0m \u001B[0mmath\u001B[0m\u001B[0;34m.\u001B[0m\u001B[0mcos\u001B[0m\u001B[0;34m(\u001B[0m\u001B[0mitheta\u001B[0m\u001B[0;34m)\u001B[0m \u001B[0;34m-\u001B[0m \u001B[0my\u001B[0m \u001B[0;34m*\u001B[0m \u001B[0mmath\u001B[0m\u001B[0;34m.\u001B[0m\u001B[0msin\u001B[0m\u001B[0;34m(\u001B[0m\u001B[0mitheta\u001B[0m\u001B[0;34m)\u001B[0m\u001B[0;34m)\u001B[0m\u001B[0;34m\u001B[0m\u001B[0;34m\u001B[0m\u001B[0m\n\u001B[1;32m     35\u001B[0m             \u001B[0;31m# ir = int(r_dim * ( 1.0 * r ) // r_max)\u001B[0m\u001B[0;34m\u001B[0m\u001B[0;34m\u001B[0m\u001B[0;34m\u001B[0m\u001B[0m\n\u001B[0;32m---> 36\u001B[0;31m             \u001B[0mhough_space\u001B[0m\u001B[0;34m[\u001B[0m\u001B[0mir\u001B[0m\u001B[0;34m,\u001B[0m \u001B[0mitheta\u001B[0m\u001B[0;34m]\u001B[0m \u001B[0;34m=\u001B[0m \u001B[0mhough_space\u001B[0m\u001B[0;34m[\u001B[0m\u001B[0mir\u001B[0m\u001B[0;34m,\u001B[0m \u001B[0mitheta\u001B[0m\u001B[0;34m]\u001B[0m \u001B[0;34m+\u001B[0m \u001B[0;36m1\u001B[0m\u001B[0;34m\u001B[0m\u001B[0;34m\u001B[0m\u001B[0m\n\u001B[0m\u001B[1;32m     37\u001B[0m \u001B[0;34m\u001B[0m\u001B[0m\n\u001B[1;32m     38\u001B[0m \u001B[0mplt\u001B[0m\u001B[0;34m.\u001B[0m\u001B[0mimshow\u001B[0m\u001B[0;34m(\u001B[0m\u001B[0mhough_space\u001B[0m\u001B[0;34m,\u001B[0m \u001B[0morigin\u001B[0m\u001B[0;34m=\u001B[0m\u001B[0;34m'lower'\u001B[0m\u001B[0;34m)\u001B[0m\u001B[0;34m\u001B[0m\u001B[0;34m\u001B[0m\u001B[0m\n",
      "\u001B[0;31mIndexError\u001B[0m: index 257 is out of bounds for axis 0 with size 257"
     ]
    }
   ],
   "source": [
    "lines = cv.HoughLines(\n",
    "   image=image_edges,\n",
    "   rho=1,\n",
    "   theta=np.pi / 180,\n",
    "   threshold=150,\n",
    "   lines=None,\n",
    "   srn=0,\n",
    "   stn=0\n",
    ")\n",
    "\n",
    "img = image_edges\n",
    "\n",
    "img_shape = img.shape\n",
    "\n",
    "x_max = img_shape[0]\n",
    "y_max = img_shape[1]\n",
    "\n",
    "theta_max = 1.0 * math.pi\n",
    "\n",
    "r_max = math.hypot(x_max, y_max)\n",
    "\n",
    "r_dim = 200\n",
    "r_dim = 257\n",
    "theta_dim = 300\n",
    "\n",
    "hough_space = np.zeros((r_dim,theta_dim))\n",
    "\n",
    "for x in range(x_max):\n",
    "    for y in range(y_max):\n",
    "        if img[x, y] == 255: continue\n",
    "        for itheta in range(theta_dim):\n",
    "            # theta = 1.0 * itheta * theta_max / theta_dim\n",
    "            # r = x * math.cos(theta) + y * math.sin(theta)\n",
    "            ir = int(x * math.cos(itheta) - y * math.sin(itheta))\n",
    "            # ir = int(r_dim * ( 1.0 * r ) // r_max)\n",
    "            hough_space[ir, itheta] = hough_space[ir, itheta] + 1\n",
    "\n",
    "plt.imshow(hough_space, origin='lower')\n",
    "plt.xlim(0,theta_dim)\n",
    "plt.ylim(0,r_dim)\n",
    "\n",
    "tick_locs = [i for i in range(0,theta_dim,40)]\n",
    "tick_lbls = [round( (1.0 * i * theta_max) / theta_dim,1) for i in range(0,theta_dim,40)]\n",
    "plt.xticks(tick_locs, tick_lbls)\n",
    "\n",
    "tick_locs = [i for i in range(0,r_dim,20)]\n",
    "tick_lbls = [round( (1.0 * i * r_max ) / r_dim,1) for i in range(0,r_dim,20)]\n",
    "plt.yticks(tick_locs, tick_lbls)\n",
    "\n",
    "plt.xlabel(r'Theta')\n",
    "plt.ylabel(r'r')\n",
    "plt.title('Hough Space')\n",
    "\n",
    "# plt.savefig(\"hough_space_r_theta.png\",bbox_inches='tight')\n",
    "# plt.close()\n"
   ],
   "metadata": {
    "collapsed": false,
    "pycharm": {
     "name": "#%%\n"
    }
   }
  }
 ],
 "metadata": {
  "kernelspec": {
   "display_name": "Python 3",
   "language": "python",
   "name": "python3"
  },
  "language_info": {
   "codemirror_mode": {
    "name": "ipython",
    "version": 2
   },
   "file_extension": ".py",
   "mimetype": "text/x-python",
   "name": "python",
   "nbconvert_exporter": "python",
   "pygments_lexer": "ipython2",
   "version": "2.7.6"
  }
 },
 "nbformat": 4,
 "nbformat_minor": 0
}