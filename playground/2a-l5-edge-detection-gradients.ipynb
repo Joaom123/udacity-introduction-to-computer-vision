{
 "cells": [
  {
   "cell_type": "markdown",
   "source": [
    "# Gradients\n",
    "## Imports"
   ],
   "metadata": {
    "collapsed": false
   }
  },
  {
   "cell_type": "code",
   "execution_count": 1,
   "metadata": {
    "collapsed": true,
    "pycharm": {
     "name": "#%%\n"
    }
   },
   "outputs": [],
   "source": [
    "import numpy as np\n",
    "from matplotlib import pyplot as plt\n",
    "import cv2 as cv"
   ]
  },
  {
   "cell_type": "markdown",
   "source": [],
   "metadata": {
    "collapsed": false
   }
  },
  {
   "cell_type": "code",
   "execution_count": 9,
   "outputs": [
    {
     "ename": "error",
     "evalue": "OpenCV(4.5.1) /tmp/pip-req-build-ms668fyv/opencv/modules/imgproc/src/deriv.cpp:107: error: (-215:Assertion failed) dx >= 0 && dy >= 0 && dx+dy > 0 in function 'getSobelKernels'\n",
     "output_type": "error",
     "traceback": [
      "\u001B[0;31m---------------------------------------------------------------------------\u001B[0m",
      "\u001B[0;31merror\u001B[0m                                     Traceback (most recent call last)",
      "\u001B[0;32m<ipython-input-9-48d794e672cc>\u001B[0m in \u001B[0;36m<module>\u001B[0;34m\u001B[0m\n\u001B[1;32m      2\u001B[0m \u001B[0mimg\u001B[0m \u001B[0;34m=\u001B[0m \u001B[0mimg\u001B[0m\u001B[0;34m/\u001B[0m\u001B[0;36m255\u001B[0m \u001B[0;31m# normalizing the image\u001B[0m\u001B[0;34m\u001B[0m\u001B[0;34m\u001B[0m\u001B[0m\n\u001B[1;32m      3\u001B[0m \u001B[0;34m\u001B[0m\u001B[0m\n\u001B[0;32m----> 4\u001B[0;31m img_sobel = cv.Sobel(\n\u001B[0m\u001B[1;32m      5\u001B[0m    \u001B[0mimg\u001B[0m\u001B[0;34m,\u001B[0m\u001B[0;34m\u001B[0m\u001B[0;34m\u001B[0m\u001B[0m\n\u001B[1;32m      6\u001B[0m    \u001B[0mddepth\u001B[0m\u001B[0;34m=\u001B[0m\u001B[0mcv\u001B[0m\u001B[0;34m.\u001B[0m\u001B[0mCV_8U\u001B[0m\u001B[0;34m,\u001B[0m\u001B[0;34m\u001B[0m\u001B[0;34m\u001B[0m\u001B[0m\n",
      "\u001B[0;31merror\u001B[0m: OpenCV(4.5.1) /tmp/pip-req-build-ms668fyv/opencv/modules/imgproc/src/deriv.cpp:107: error: (-215:Assertion failed) dx >= 0 && dy >= 0 && dx+dy > 0 in function 'getSobelKernels'\n"
     ]
    }
   ],
   "source": [
    "img = cv.imread('images/octagon.png', 0)\n",
    "img = img/255 # normalizing the image\n",
    "\n",
    "img_sobel = cv.Sobel(\n",
    "   img,\n",
    "   ddepth=cv.CV_8U,\n",
    "   dx=1,\n",
    "   dy=0,\n",
    "   ksize=3\n",
    ")\n",
    "\n",
    "img_sobel_normalized = (img_sobel + 4)/8\n",
    "plt.subplot(1,3,1), plt.imshow(img_sobel, cmap = 'gray')\n",
    "plt.title('Original'), plt.xticks([]), plt.yticks([])\n",
    "\n",
    "plt.subplot(1,3,2), plt.imshow(img_sobel_normalized, cmap = 'gray')\n",
    "plt.title('Original2'), plt.xticks([]), plt.yticks([])\n",
    "\n",
    "# # Output dtype = cv.CV_8U\n",
    "# sobelx8u = cv.Sobel(img,cv.CV_8U, 1, 0, ksize=3)\n",
    "#\n",
    "# # Output dtype = cv.CV_64F. Then take its absolute and convert to cv.CV_8U\n",
    "# sobelx64f = cv.Sobel(img,cv.CV_64F, 1, 0, ksize=3)\n",
    "#\n",
    "# abs_sobel64f = np.absolute(sobelx64f)\n",
    "# sobel_8u = np.uint8(abs_sobel64f)\n",
    "#\n",
    "# plt.subplot(1,3,1),plt.imshow(img,cmap = 'gray')\n",
    "# plt.title('Original'), plt.xticks([]), plt.yticks([])\n",
    "#\n",
    "# plt.subplot(1,3,2),plt.imshow(sobelx8u,cmap = 'gray')\n",
    "# plt.title('Sobel CV_8U'), plt.xticks([]), plt.yticks([])\n",
    "#\n",
    "# plt.subplot(1,3,3),plt.imshow(sobel_8u,cmap = 'gray')\n",
    "# plt.title('Sobel abs(CV_64F)'), plt.xticks([]), plt.yticks([])\n",
    "#\n",
    "# plt.show()"
   ],
   "metadata": {
    "collapsed": false,
    "pycharm": {
     "name": "#%%\n"
    }
   }
  }
 ],
 "metadata": {
  "kernelspec": {
   "display_name": "Python 3",
   "language": "python",
   "name": "python3"
  },
  "language_info": {
   "codemirror_mode": {
    "name": "ipython",
    "version": 2
   },
   "file_extension": ".py",
   "mimetype": "text/x-python",
   "name": "python",
   "nbconvert_exporter": "python",
   "pygments_lexer": "ipython2",
   "version": "2.7.6"
  }
 },
 "nbformat": 4,
 "nbformat_minor": 0
}