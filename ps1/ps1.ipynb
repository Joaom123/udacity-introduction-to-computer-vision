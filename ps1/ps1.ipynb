{
 "cells": [
  {
   "cell_type": "markdown",
   "metadata": {
    "collapsed": true,
    "pycharm": {
     "name": "#%% md\n"
    }
   },
   "source": [
    "# Problem Set 1: Edges and Lines"
   ]
  },
  {
   "cell_type": "code",
   "execution_count": 11,
   "outputs": [],
   "source": [
    "import cv2 as cv\n",
    "from matplotlib import pyplot as plt"
   ],
   "metadata": {
    "collapsed": false,
    "pycharm": {
     "name": "#%%\n"
    }
   }
  },
  {
   "cell_type": "markdown",
   "source": [
    "## Question 1 - Store Edge Image"
   ],
   "metadata": {
    "collapsed": false
   }
  },
  {
   "cell_type": "code",
   "execution_count": 12,
   "outputs": [
    {
     "data": {
      "text/plain": "<Figure size 720x720 with 2 Axes>",
      "image/png": "[encoded data removed]"
     },
     "metadata": {},
     "output_type": "display_data"
    },
    {
     "data": {
      "text/plain": "True"
     },
     "execution_count": 12,
     "metadata": {},
     "output_type": "execute_result"
    }
   ],
   "source": [
    "# Loads an image\n",
    "image_grayscale = cv.imread(\"input/ps1-input0.png\", cv.IMREAD_GRAYSCALE)\n",
    "\n",
    "# Edge detection using Canny\n",
    "edge_image = cv.Canny(\n",
    "   image=image_grayscale,\n",
    "   threshold1=50,\n",
    "   threshold2=200,\n",
    "   edges=None,\n",
    "   apertureSize=3\n",
    ")\n",
    "\n",
    "fig, axs = plt.subplots(ncols=2, figsize=(10, 10), facecolor=\"white\")\n",
    "axs[0].imshow(image_grayscale, cmap=\"gray\"), axs[0].set_title(\"Grayscale Original Image\")\n",
    "axs[1].imshow(edge_image, cmap=\"gray\"), axs[1].set_title(\"Edge Image\")\n",
    "plt.show()\n",
    "\n",
    "cv.imwrite(\"output/ps1-1-a-1.png\", edge_image)"
   ],
   "metadata": {
    "collapsed": false,
    "pycharm": {
     "name": "#%%\n"
    }
   }
  },
  {
   "cell_type": "markdown",
   "source": [
    "## Question 2 - Implementing Hough Transform\n",
    "### a) Write a function hough_lines_acc that computes the Hough Transform for lines and produces an accumulator array."
   ],
   "metadata": {
    "collapsed": false
   }
  },
  {
   "cell_type": "code",
   "execution_count": null,
   "outputs": [],
   "source": [
    "def hough_lines_acc():\n",
    "   return 0\n"
   ],
   "metadata": {
    "collapsed": false,
    "pycharm": {
     "name": "#%%\n"
    }
   }
  },
  {
   "cell_type": "markdown",
   "source": [
    "### b) Write a function hough_peaks that finds indices of the accumulator array (here line parameters) that correspond to local maxima."
   ],
   "metadata": {
    "collapsed": false
   }
  },
  {
   "cell_type": "code",
   "execution_count": null,
   "outputs": [],
   "source": [
    "def hough_peaks():\n",
    "   return 0"
   ],
   "metadata": {
    "collapsed": false,
    "pycharm": {
     "name": "#%%\n"
    }
   }
  },
  {
   "cell_type": "markdown",
   "source": [
    "### c) Write a function hough_lines_draw to draw color lines that correspond to peaks found in the accumulator array."
   ],
   "metadata": {
    "collapsed": false
   }
  },
  {
   "cell_type": "code",
   "execution_count": null,
   "outputs": [],
   "source": [
    "def hough_lines_draw():\n",
    "   return 0"
   ],
   "metadata": {
    "collapsed": false,
    "pycharm": {
     "name": "#%%\n"
    }
   }
  },
  {
   "cell_type": "markdown",
   "source": [
    "### d) What parameters did you use for finding lines in this image?"
   ],
   "metadata": {
    "collapsed": false
   }
  },
  {
   "cell_type": "code",
   "execution_count": null,
   "outputs": [],
   "source": [],
   "metadata": {
    "collapsed": false,
    "pycharm": {
     "name": "#%%\n"
    }
   }
  }
 ],
 "metadata": {
  "kernelspec": {
   "display_name": "Python 3",
   "language": "python",
   "name": "python3"
  },
  "language_info": {
   "codemirror_mode": {
    "name": "ipython",
    "version": 2
   },
   "file_extension": ".py",
   "mimetype": "text/x-python",
   "name": "python",
   "nbconvert_exporter": "python",
   "pygments_lexer": "ipython2",
   "version": "2.7.6"
  }
 },
 "nbformat": 4,
 "nbformat_minor": 0
}